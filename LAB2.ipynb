{
  "nbformat": 4,
  "nbformat_minor": 0,
  "metadata": {
    "colab": {
      "name": "LAB2.ipynb",
      "provenance": [],
      "authorship_tag": "ABX9TyO9Qe/C5mxA3jvw+XXVSa1F",
      "include_colab_link": true
    },
    "kernelspec": {
      "name": "python3",
      "display_name": "Python 3"
    }
  },
  "cells": [
    {
      "cell_type": "markdown",
      "metadata": {
        "id": "view-in-github",
        "colab_type": "text"
      },
      "source": [
        "<a href=\"https://colab.research.google.com/github/cturano18/SRA-LAB-2/blob/master/LAB2.ipynb\" target=\"_parent\"><img src=\"https://colab.research.google.com/assets/colab-badge.svg\" alt=\"Open In Colab\"/></a>"
      ]
    },
    {
      "cell_type": "markdown",
      "metadata": {
        "id": "9dYUvQ6FHFCq",
        "colab_type": "text"
      },
      "source": [
        "#Lab 2- Types of Graphs\n"
      ]
    },
    {
      "cell_type": "markdown",
      "metadata": {
        "id": "x8uwa5PRldlb",
        "colab_type": "text"
      },
      "source": [
        "creator: Colleen Turano"
      ]
    },
    {
      "cell_type": "markdown",
      "metadata": {
        "id": "PjrO0R-_HHYk",
        "colab_type": "text"
      },
      "source": [
        "#Introduction"
      ]
    },
    {
      "cell_type": "markdown",
      "metadata": {
        "id": "tgBK1pZFHWQ-",
        "colab_type": "text"
      },
      "source": [
        "In this lab we will be creating different types of graphs as discussed in class and analyze how they represent the data provided. In this specific we are looking at data related to NCAA March Madness Mascots and we will be using Tableau to create these graphs with the data provided to us. We also have provided to us descriptions of the data given that helps to understand the data more, making it easier to understand the graphs once they've been plotted and made.  "
      ]
    },
    {
      "cell_type": "markdown",
      "metadata": {
        "id": "VAW2Hsm-Hw_h",
        "colab_type": "text"
      },
      "source": [
        "#Deviation"
      ]
    },
    {
      "cell_type": "markdown",
      "metadata": {
        "id": "6kgd542VwUwh",
        "colab_type": "text"
      },
      "source": [
        "![](https://raw.githubusercontent.com/cturano18/SRA-LAB-2/master/images/Deviation.png)"
      ]
    },
    {
      "cell_type": "markdown",
      "metadata": {
        "id": "063Mmib_CXwZ",
        "colab_type": "text"
      },
      "source": [
        "Above is the graph for deviation using a stacked bar graph. This graph is presenting the variables of the average winnings and the dates over the years. Along with these varibles it includes the name of the mascots that one for each year. The spatial aspect of this graph can be confusing to the reader but with the help of the stacked bar columns it can become easy to understand what the graph is trying to tell the reader and get the point across. With the diverging bars and stackings it shows the reader a specific point at which they should pay closer attention to. "
      ]
    },
    {
      "cell_type": "markdown",
      "metadata": {
        "id": "J8_9XOTIH3uw",
        "colab_type": "text"
      },
      "source": [
        "#Correlation"
      ]
    },
    {
      "cell_type": "markdown",
      "metadata": {
        "id": "8mQPhtQG_XLn",
        "colab_type": "text"
      },
      "source": [
        "![](https://raw.githubusercontent.com/cturano18/SRA-LAB-2/master/images/correlation.png)"
      ]
    },
    {
      "cell_type": "markdown",
      "metadata": {
        "id": "3eX7LKJW8r2_",
        "colab_type": "text"
      },
      "source": [
        "This graph shows the correlation between the average winning points and the season that they are in. With using a correlation graph it can be shown two different variables that better demonstrate at which time everything happened. With using both the variable of the year and season the reader gets a better understanding of the data being shown in the graph. The spatial aspects of this graph are pleasing to the eye and not hard to understand. As correlation graphs show the relationship between two or more points it can be seen in this graph that the season of which these winnings occured has a relationship within each other. "
      ]
    },
    {
      "cell_type": "markdown",
      "metadata": {
        "id": "ji6E7gU-H54g",
        "colab_type": "text"
      },
      "source": [
        "#Ranking"
      ]
    },
    {
      "cell_type": "markdown",
      "metadata": {
        "id": "wOt1jxf9BLn9",
        "colab_type": "text"
      },
      "source": [
        "![](https://raw.githubusercontent.com/cturano18/SRA-LAB-2/master/images/Ranking.png)"
      ]
    },
    {
      "cell_type": "markdown",
      "metadata": {
        "id": "SAjYT3a2BP6K",
        "colab_type": "text"
      },
      "source": [
        "The graph above is a ranking graph, basically showing the rankings of the average winning points throughout the years. With this graph it is pleasing to the eye of the viewer as well as easy to interpret. The lines clearly show the high and lows of the winnings and it is pleasing to the viewer in the fact that the spacing of everything does not throw the reader off in any ways. In ranking graphs it highlights the positioning of data relative to one another and with this particular one it can be seen that the data has similarities in which the bars are not that drastically changing much. "
      ]
    },
    {
      "cell_type": "markdown",
      "metadata": {
        "id": "7QR78yU75tJY",
        "colab_type": "text"
      },
      "source": [
        "#Distribution"
      ]
    },
    {
      "cell_type": "markdown",
      "metadata": {
        "id": "1Fxjs6EsH75d",
        "colab_type": "text"
      },
      "source": [
        "![](https://raw.githubusercontent.com/cturano18/SRA-LAB-2/master/images/Distribution.png)"
      ]
    },
    {
      "cell_type": "markdown",
      "metadata": {
        "id": "iLJVCNFa5iyM",
        "colab_type": "text"
      },
      "source": [
        "According to this graph it is showing the reader the average winning points and the distribution of them. Distribution graphs shows the values of the dataset and how often they occur. With a box and whisker plot like this one it can show how these winnings were spanned throughtout the years and give the reader a better understanding of these variables being used. This graph may be more confusing to the eye of the reader in which there are lots of spatial variables and central value varibles to look at but overall and pick out which year has the highest winning points. "
      ]
    },
    {
      "cell_type": "markdown",
      "metadata": {
        "id": "76MRelMJ4mEP",
        "colab_type": "text"
      },
      "source": [
        "#Change Over Time"
      ]
    },
    {
      "cell_type": "markdown",
      "metadata": {
        "id": "JNWrKRjiH-mg",
        "colab_type": "text"
      },
      "source": [
        "![](https://raw.githubusercontent.com/cturano18/SRA-LAB-2/master/images/ChangeOverTime.png)"
      ]
    },
    {
      "cell_type": "markdown",
      "metadata": {
        "id": "0hCn6_1Q4pHn",
        "colab_type": "text"
      },
      "source": [
        "This graph shows how the average of the winning points of the teams stayed pretty similar throughout the years. There were not any dramatical changes throughout the year and with the help of the bar graph, the reader is able to see that the average winning points stayed at a similar constant rate and did not flunctuate much over time. The graph is also telling the reader which year had the highest winnning points and according to the graph it would be the year 1989. "
      ]
    },
    {
      "cell_type": "markdown",
      "metadata": {
        "id": "LDK6qjDmEVIy",
        "colab_type": "text"
      },
      "source": [
        "#Magnitude"
      ]
    },
    {
      "cell_type": "markdown",
      "metadata": {
        "id": "i0hrKkNAEX0O",
        "colab_type": "text"
      },
      "source": [
        "![alt text](https://raw.githubusercontent.com/cturano18/SRA-LAB-2/master/images/ChangeOverTime.png)"
      ]
    },
    {
      "cell_type": "markdown",
      "metadata": {
        "id": "exRQ6cSSEsYx",
        "colab_type": "text"
      },
      "source": [
        "Similar to change over time magnitude can be interpreted with columns as well. Magnitude graphs show the comparisons of data and with this particular data it can be seen that the data has some comparisons. For example, the data does not seem to fluncuate over time much and there are similarities in the average winnings throughout the years. This graph demonstrates that with these comlumns and the spacing of the columns makes it easier for the reader to view that the data does not have much dramatical differences. "
      ]
    },
    {
      "cell_type": "markdown",
      "metadata": {
        "id": "JxICwAwoIGcY",
        "colab_type": "text"
      },
      "source": [
        "#Part-To-Whole"
      ]
    },
    {
      "cell_type": "markdown",
      "metadata": {
        "id": "c5fkL30e-Hsn",
        "colab_type": "text"
      },
      "source": [
        "![](https://raw.githubusercontent.com/cturano18/SRA-LAB-2/master/images/Part%20to%20Whole.png)"
      ]
    },
    {
      "cell_type": "markdown",
      "metadata": {
        "id": "CIVjEwP5-KTP",
        "colab_type": "text"
      },
      "source": [
        "The graph above is a treemap for the overall graphing of a Part-to-Whole. This graph is representing the average winnings of the teams and the years of which those winnings accured. In a treemap you can scroll over which year you would like to view the winnings and it will tell you the winnings of that year. This can be assuring to the viewer in which they know exactly what year they are viewing and there is no spatial cons or problems occuring when reading this graph. "
      ]
    },
    {
      "cell_type": "markdown",
      "metadata": {
        "id": "pJBOnZu6IJTW",
        "colab_type": "text"
      },
      "source": [
        "#Conclusion"
      ]
    },
    {
      "cell_type": "markdown",
      "metadata": {
        "id": "17GgHy64IL6C",
        "colab_type": "text"
      },
      "source": [
        "These graphs each demonstrated information in many different ways. By using different types of graphs it can show how all the different way data can be read and interpreted.  "
      ]
    }
  ]
}